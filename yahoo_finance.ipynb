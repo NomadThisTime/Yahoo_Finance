{
 "cells": [
  {
   "cell_type": "code",
   "execution_count": 1,
   "metadata": {},
   "outputs": [],
   "source": [
    "### import packages\n",
    "\n",
    "import yfinance as yf\n",
    "from openpyxl import load_workbook"
   ]
  },
  {
   "cell_type": "code",
   "execution_count": 2,
   "metadata": {},
   "outputs": [],
   "source": [
    "### loading workbook\n",
    "\n",
    "wb = load_workbook('yahoo.xlsx')\n",
    "ws = wb.active"
   ]
  },
  {
   "cell_type": "code",
   "execution_count": null,
   "metadata": {},
   "outputs": [],
   "source": [
    "### defining maximum column and row\n",
    "\n",
    "def get_maximum_cols():\n",
    "    for i in range(2, 20000):\n",
    "        if ws.cell(row=1, column= i).value == None:\n",
    "            max_col = i\n",
    "            break\n",
    "    return max_col-1\n",
    "\n",
    "def get_maximum_rows():\n",
    "    for i in range(2, 20000):\n",
    "        if ws.cell(row=i, column= 1).value == None:\n",
    "            max_row = i\n",
    "            break\n",
    "    return max_row-1"
   ]
  },
  {
   "cell_type": "code",
   "execution_count": 3,
   "metadata": {},
   "outputs": [],
   "source": [
    "### get ticker list from the first row\n",
    "\n",
    "ticker_list = []\n",
    "\n",
    "for row in ws.iter_rows(min_row=1, max_row=1, min_col=2, max_col=len(ws['1'])):\n",
    "    for cell in row:\n",
    "        ticker_list.append(cell.value)\n",
    "\n",
    "#print(ticker_list)"
   ]
  },
  {
   "cell_type": "code",
   "execution_count": 4,
   "metadata": {},
   "outputs": [],
   "source": [
    "### load tickers\n",
    "\n",
    "loaded_tickers = []\n",
    "\n",
    "for ticker in ticker_list:\n",
    "    ticker = yf.Ticker(ticker)\n",
    "    loaded_tickers.append(ticker)"
   ]
  },
  {
   "cell_type": "code",
   "execution_count": 12,
   "metadata": {},
   "outputs": [],
   "source": [
    "### get data for each ticker\n",
    "\n",
    "all_ticker_data = []\n",
    "\n",
    "for i in range(0, len(loaded_tickers)):\n",
    "    all_ticker_data.extend((loaded_tickers[i].info.get('currentPrice', 'N/A'), loaded_tickers[i].info.get('trailingPE', 'N/A'), loaded_tickers[i].info.get('forwardPE', 'N/A'), loaded_tickers[i].info.get('trailingEps', 'N/A'),\n",
    "                        loaded_tickers[i].info.get('beta', 'N/A'), loaded_tickers[i].info.get('fiftyTwoWeekHigh', 'N/A'), loaded_tickers[i].info.get('fiftyTwoWeekLow', 'N/A'), loaded_tickers[i].info.get('fiftyDayAverage', 'N/A'),\n",
    "                        loaded_tickers[i].info.get('twoHundredDayAverage', 'N/A'), loaded_tickers[i].info.get('dividendRate', 'N/A'), loaded_tickers[i].info.get('dividendYield', 'N/A')))"
   ]
  },
  {
   "cell_type": "code",
   "execution_count": 17,
   "metadata": {},
   "outputs": [],
   "source": [
    "### put data into worksheet\n",
    "\n",
    "i = 0\n",
    "\n",
    "for col in ws.iter_cols(min_row=2, max_row=get_maximum_rows(), min_col=2, max_col=get_maximum_cols()):\n",
    "    for cell in col:\n",
    "        cell.value = all_ticker_data[i]\n",
    "        i += 1"
   ]
  },
  {
   "cell_type": "code",
   "execution_count": 19,
   "metadata": {},
   "outputs": [],
   "source": [
    "### save workbook\n",
    "\n",
    "wb.save('yahoo.xlsx')"
   ]
  }
 ],
 "metadata": {
  "kernelspec": {
   "display_name": "Python 3",
   "language": "python",
   "name": "python3"
  },
  "language_info": {
   "codemirror_mode": {
    "name": "ipython",
    "version": 3
   },
   "file_extension": ".py",
   "mimetype": "text/x-python",
   "name": "python",
   "nbconvert_exporter": "python",
   "pygments_lexer": "ipython3",
   "version": "3.10.7"
  },
  "orig_nbformat": 4
 },
 "nbformat": 4,
 "nbformat_minor": 2
}
